{
 "cells": [
  {
   "cell_type": "code",
   "execution_count": 24,
   "metadata": {
    "ExecuteTime": {
     "end_time": "2020-09-07T16:25:45.748975Z",
     "start_time": "2020-09-07T16:25:45.703696Z"
    },
    "solution": "hidden"
   },
   "outputs": [],
   "source": [
    "import pandas as pd\n",
    "import numpy as np"
   ]
  },
  {
   "cell_type": "markdown",
   "metadata": {},
   "source": [
    "## Classification of Job Posts"
   ]
  },
  {
   "cell_type": "markdown",
   "metadata": {},
   "source": [
    "### Reading the data"
   ]
  },
  {
   "cell_type": "code",
   "execution_count": 4,
   "metadata": {
    "ExecuteTime": {
     "end_time": "2020-09-07T15:51:59.262064Z",
     "start_time": "2020-09-07T15:51:59.187036Z"
    }
   },
   "outputs": [],
   "source": [
    "# Helper method: reading data (only column \"job description\" is kept)\n",
    "# param list: a list of labels, only rows with those labels are read in\n",
    "# param name: label that is added to all rows in the data frame\n",
    "def read_all(list, name, path): \n",
    "    posts = pd.DataFrame([], columns = [\"job_description\", \"label\"])\n",
    "    jobs = pd.read_csv(path)\n",
    "    for item in list: \n",
    "        selected = jobs[jobs.category == item]\n",
    "        selected[\"label\"] = name\n",
    "        selected = selected.loc[:,[\"job_description\", \"label\"]]        \n",
    "        posts = posts.append(selected)        \n",
    "    return posts    "
   ]
  },
  {
   "cell_type": "code",
   "execution_count": 23,
   "metadata": {
    "ExecuteTime": {
     "end_time": "2020-09-07T16:22:35.042997Z",
     "start_time": "2020-09-07T16:22:19.824327Z"
    }
   },
   "outputs": [
    {
     "name": "stderr",
     "output_type": "stream",
     "text": [
      "<ipython-input-4-ccbda97751b2>:9: SettingWithCopyWarning: \n",
      "A value is trying to be set on a copy of a slice from a DataFrame.\n",
      "Try using .loc[row_indexer,col_indexer] = value instead\n",
      "\n",
      "See the caveats in the documentation: https://pandas.pydata.org/pandas-docs/stable/user_guide/indexing.html#returning-a-view-versus-a-copy\n",
      "  selected[\"label\"] = name\n"
     ]
    }
   ],
   "source": [
    "path = \"./Data/Data Scientist Job Postings/job_posts_jobspikr.csv\"\n",
    "class1 = read_all([\"Engineering-or-architecture\"], \"architecture-and-engineering\", path)\n",
    "class2 = read_all([\"business and financial operations\"], \"business-and-financial\", path)"
   ]
  },
  {
   "cell_type": "code",
   "execution_count": 6,
   "metadata": {
    "ExecuteTime": {
     "end_time": "2020-09-07T15:52:16.259545Z",
     "start_time": "2020-09-07T15:52:15.923802Z"
    }
   },
   "outputs": [
    {
     "data": {
      "text/html": [
       "<div>\n",
       "<style scoped>\n",
       "    .dataframe tbody tr th:only-of-type {\n",
       "        vertical-align: middle;\n",
       "    }\n",
       "\n",
       "    .dataframe tbody tr th {\n",
       "        vertical-align: top;\n",
       "    }\n",
       "\n",
       "    .dataframe thead th {\n",
       "        text-align: right;\n",
       "    }\n",
       "</style>\n",
       "<table border=\"1\" class=\"dataframe\">\n",
       "  <thead>\n",
       "    <tr style=\"text-align: right;\">\n",
       "      <th></th>\n",
       "      <th>job_description</th>\n",
       "      <th>label</th>\n",
       "    </tr>\n",
       "  </thead>\n",
       "  <tbody>\n",
       "    <tr>\n",
       "      <th>2931</th>\n",
       "      <td>Data Scientist\\n\\nWell Data Labs (WDL) is a te...</td>\n",
       "      <td>architecture-and-engineering</td>\n",
       "    </tr>\n",
       "    <tr>\n",
       "      <th>2995</th>\n",
       "      <td>Read what people are saying about working here...</td>\n",
       "      <td>architecture-and-engineering</td>\n",
       "    </tr>\n",
       "    <tr>\n",
       "      <th>3003</th>\n",
       "      <td>\\n\\nSummary\\n\\nRole type: \\n\\nundefined\\n\\nExp...</td>\n",
       "      <td>architecture-and-engineering</td>\n",
       "    </tr>\n",
       "    <tr>\n",
       "      <th>3015</th>\n",
       "      <td>Read what people are saying about working here...</td>\n",
       "      <td>architecture-and-engineering</td>\n",
       "    </tr>\n",
       "    <tr>\n",
       "      <th>3016</th>\n",
       "      <td>Read what people are saying about working here...</td>\n",
       "      <td>architecture-and-engineering</td>\n",
       "    </tr>\n",
       "  </tbody>\n",
       "</table>\n",
       "</div>"
      ],
      "text/plain": [
       "                                        job_description  \\\n",
       "2931  Data Scientist\\n\\nWell Data Labs (WDL) is a te...   \n",
       "2995  Read what people are saying about working here...   \n",
       "3003  \\n\\nSummary\\n\\nRole type: \\n\\nundefined\\n\\nExp...   \n",
       "3015  Read what people are saying about working here...   \n",
       "3016  Read what people are saying about working here...   \n",
       "\n",
       "                             label  \n",
       "2931  architecture-and-engineering  \n",
       "2995  architecture-and-engineering  \n",
       "3003  architecture-and-engineering  \n",
       "3015  architecture-and-engineering  \n",
       "3016  architecture-and-engineering  "
      ]
     },
     "execution_count": 6,
     "metadata": {},
     "output_type": "execute_result"
    }
   ],
   "source": [
    "class1.head()"
   ]
  },
  {
   "cell_type": "markdown",
   "metadata": {},
   "source": [
    "### Feature Extraction"
   ]
  },
  {
   "cell_type": "markdown",
   "metadata": {
    "solution": "shown",
    "solution_first": true
   },
   "source": [
    "#### Ex 1.1: Split the data into training and test data  "
   ]
  },
  {
   "cell_type": "markdown",
   "metadata": {
    "solution": "shown"
   },
   "source": [
    "Hint: use method *train_test_split* of sklearn "
   ]
  },
  {
   "cell_type": "code",
   "execution_count": null,
   "metadata": {
    "ExecuteTime": {
     "end_time": "2020-09-07T15:52:16.432632Z",
     "start_time": "2020-09-07T15:52:16.294357Z"
    }
   },
   "outputs": [],
   "source": []
  },
  {
   "cell_type": "markdown",
   "metadata": {
    "solution": "hidden",
    "solution_first": true
   },
   "source": [
    "#### Ex. 1.2: Build a feature vector for each post with 1 item per word that exists in the document collection and the word counts as vectors (bag-of-words)"
   ]
  },
  {
   "cell_type": "markdown",
   "metadata": {
    "solution": "hidden"
   },
   "source": [
    "Hint: use *CountVectorizer* of sklearn. It has to be fitted first (method *fit*) before it can be applied for transformation (method *transform*)  \n",
    "Hint 2: Make sure that you only process the *job_description* column! "
   ]
  },
  {
   "cell_type": "code",
   "execution_count": null,
   "metadata": {
    "ExecuteTime": {
     "end_time": "2020-09-07T15:52:48.781262Z",
     "start_time": "2020-09-07T15:52:16.456550Z"
    },
    "solution": "hidden"
   },
   "outputs": [],
   "source": []
  },
  {
   "cell_type": "markdown",
   "metadata": {
    "solution": "hidden",
    "solution_first": true
   },
   "source": [
    "#### Ex. 1.3: Use TF-IDF to build the feature vectors instead of word counts"
   ]
  },
  {
   "cell_type": "markdown",
   "metadata": {
    "solution": "hidden"
   },
   "source": [
    "Hint: use *TfidfVectorizer*  \n",
    "Hint 2: proceed as with the CountVectorizer"
   ]
  },
  {
   "cell_type": "code",
   "execution_count": null,
   "metadata": {
    "ExecuteTime": {
     "end_time": "2020-09-07T15:53:25.550689Z",
     "start_time": "2020-09-07T15:52:48.805344Z"
    }
   },
   "outputs": [],
   "source": []
  },
  {
   "cell_type": "markdown",
   "metadata": {},
   "source": [
    "### Training a classifier"
   ]
  },
  {
   "cell_type": "markdown",
   "metadata": {
    "solution": "hidden",
    "solution_first": true
   },
   "source": [
    "#### Ex 2: Train two SVM classifiers (one for each type of feature vector)"
   ]
  },
  {
   "cell_type": "markdown",
   "metadata": {
    "solution": "hidden"
   },
   "source": [
    "Hint: Proceed as learned in the classification session"
   ]
  },
  {
   "cell_type": "code",
   "execution_count": null,
   "metadata": {
    "ExecuteTime": {
     "end_time": "2020-09-07T16:00:15.431236Z",
     "start_time": "2020-09-07T15:56:32.208572Z"
    }
   },
   "outputs": [],
   "source": []
  },
  {
   "cell_type": "markdown",
   "metadata": {
    "ExecuteTime": {
     "end_time": "2020-09-07T15:05:28.839874Z",
     "start_time": "2020-09-07T15:03:45.492757Z"
    }
   },
   "source": [
    "### Evaluate the classifiers"
   ]
  },
  {
   "cell_type": "markdown",
   "metadata": {
    "solution": "hidden",
    "solution_first": true
   },
   "source": [
    "#### Ex. 3: Evaluate the two classifiers. Which of the two scored better? What type of errors were made most? "
   ]
  },
  {
   "cell_type": "markdown",
   "metadata": {
    "solution": "hidden"
   },
   "source": [
    "Hint: Use methods of *sklearn.metrics* like accuracy_score, confusion_matrix"
   ]
  },
  {
   "cell_type": "code",
   "execution_count": null,
   "metadata": {
    "ExecuteTime": {
     "end_time": "2020-09-07T16:01:10.511867Z",
     "start_time": "2020-09-07T16:01:10.375696Z"
    }
   },
   "outputs": [],
   "source": []
  },
  {
   "cell_type": "code",
   "execution_count": null,
   "metadata": {
    "ExecuteTime": {
     "end_time": "2020-09-07T16:07:56.532328Z",
     "start_time": "2020-09-07T16:07:55.191262Z"
    }
   },
   "outputs": [],
   "source": []
  },
  {
   "cell_type": "code",
   "execution_count": null,
   "metadata": {
    "ExecuteTime": {
     "end_time": "2020-09-07T16:08:08.770589Z",
     "start_time": "2020-09-07T16:08:07.390216Z"
    }
   },
   "outputs": [],
   "source": []
  },
  {
   "cell_type": "markdown",
   "metadata": {},
   "source": [
    "### Additional exercises for the pros (only if time permits)"
   ]
  },
  {
   "cell_type": "markdown",
   "metadata": {},
   "source": [
    "#### Ex. 4: Try variations \n",
    "- Try other types of classifiers (e.g. Random Forest, MultinomialNB)  \n",
    "- Play around with the hyper parameters of the algorithms  \n",
    "- Choose other categories in the job post dataset "
   ]
  },
  {
   "cell_type": "code",
   "execution_count": null,
   "metadata": {
    "ExecuteTime": {
     "end_time": "2020-09-07T15:55:35.080578Z",
     "start_time": "2020-09-07T15:53:25.597567Z"
    }
   },
   "outputs": [],
   "source": []
  },
  {
   "cell_type": "code",
   "execution_count": null,
   "metadata": {
    "ExecuteTime": {
     "end_time": "2020-09-07T16:00:21.728305Z",
     "start_time": "2020-09-07T16:00:21.518028Z"
    }
   },
   "outputs": [],
   "source": []
  },
  {
   "cell_type": "code",
   "execution_count": null,
   "metadata": {
    "ExecuteTime": {
     "end_time": "2020-09-07T16:14:18.382801Z",
     "start_time": "2020-09-07T16:14:17.973892Z"
    }
   },
   "outputs": [],
   "source": []
  },
  {
   "cell_type": "code",
   "execution_count": null,
   "metadata": {
    "ExecuteTime": {
     "end_time": "2020-09-07T16:14:45.202242Z",
     "start_time": "2020-09-07T16:14:43.863264Z"
    }
   },
   "outputs": [],
   "source": []
  },
  {
   "cell_type": "code",
   "execution_count": null,
   "metadata": {},
   "outputs": [],
   "source": []
  }
 ],
 "metadata": {
  "kernelspec": {
   "display_name": "Python 3",
   "language": "python",
   "name": "python3"
  },
  "language_info": {
   "codemirror_mode": {
    "name": "ipython",
    "version": 3
   },
   "file_extension": ".py",
   "mimetype": "text/x-python",
   "name": "python",
   "nbconvert_exporter": "python",
   "pygments_lexer": "ipython3",
   "version": "3.8.3"
  },
  "varInspector": {
   "cols": {
    "lenName": 16,
    "lenType": 16,
    "lenVar": 40
   },
   "kernels_config": {
    "python": {
     "delete_cmd_postfix": "",
     "delete_cmd_prefix": "del ",
     "library": "var_list.py",
     "varRefreshCmd": "print(var_dic_list())"
    },
    "r": {
     "delete_cmd_postfix": ") ",
     "delete_cmd_prefix": "rm(",
     "library": "var_list.r",
     "varRefreshCmd": "cat(var_dic_list()) "
    }
   },
   "types_to_exclude": [
    "module",
    "function",
    "builtin_function_or_method",
    "instance",
    "_Feature"
   ],
   "window_display": false
  }
 },
 "nbformat": 4,
 "nbformat_minor": 2
}
